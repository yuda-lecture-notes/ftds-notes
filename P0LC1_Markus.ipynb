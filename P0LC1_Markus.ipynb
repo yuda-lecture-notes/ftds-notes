{
 "cells": [
  {
   "cell_type": "markdown",
   "metadata": {},
   "source": [
    "LIVE CODE 1\n",
    "\n",
    "Nama : Markus Tri \n",
    "Batch : Pondok Indah - 26\n",
    "\n",
    "Program ini dibuat untuk melakukan penjumlahan harga sesuai dengan diskon yang berlaku pada tingkatan membership masing - masing pelanggan. Setiap diskon juga memiliki masing - masing minimum harga yang harus tepenuhi"
   ]
  },
  {
   "cell_type": "code",
   "execution_count": null,
   "metadata": {},
   "outputs": [],
   "source": [
    "def diskon_member(harga, jenis):\n",
    "    '''Fungsi ini bertujuan mendefinisikan harga diskonan barang sesuai\n",
    "    jenis membershipnya. Pada fungsi ini diskon bakalan dikali dengan harga, \n",
    "    didapatlh hargaDiskon'''\n",
    "\n",
    "    jenis = int('regular', 'vip', 'non-Member')\n",
    "\n",
    "    if jenis == 'regular':\n",
    "        '''untuk define diskon yang reguler'''\n",
    "        if harga > 10000:\n",
    "            '''untuk diskon diatas 10.000'''\n",
    "            diskon = 0.1\n",
    "            hargaDiskon = harga * diskon\n",
    "        else:\n",
    "            diskon = 0.05\n",
    "            '''untuk diskon dibawah 10.000'''\n",
    "            hargaDiskon = harga * diskon\n",
    "    elif jenis == 'vip':\n",
    "        '''untuk define diskon yang vip'''\n",
    "        if harga > 50000:\n",
    "            '''untuk diskon diatas 50.000'''\n",
    "            diskon = 0.3\n",
    "            hargaDiskon = harga * diskon\n",
    "        else:\n",
    "            '''untuk diskon dibawah 50.000'''\n",
    "            diskon = 0.2\n",
    "            hargaDiskon = harga * diskon\n",
    "    elif jenis == 'non-Member':\n",
    "        '''untuk define diskon yang non-member (tidak ada)'''\n",
    "        hargaDiskoniskon = harga - 0\n",
    "    return hargaDiskon\n",
    "\n",
    "\n",
    "\n",
    "\n"
   ]
  },
  {
   "cell_type": "code",
   "execution_count": null,
   "metadata": {},
   "outputs": [],
   "source": [
    "def total_belanja (*harga, jenis):\n",
    "    '''Di function ini di proses total belanja dari masing masing member setelah\n",
    "    diskon'''\n",
    "    idx = []\n",
    "    jenis = int('regular', 'vip', 'non-Member')\n",
    "    while True:\n",
    "        '''untuk melakukan pengulangan'''\n",
    "        for i in harga:\n",
    "            '''looping untuk memsukkn seluruh harga ke dlam list'''\n",
    "            if jenis == 'regular':\n",
    "                diskon_member(i, 'regular')\n",
    "            elif jenis == 'vip':\n",
    "                diskon_member(i, 'vip')\n",
    "            elif jenis == 'non-Member':\n",
    "                diskon_member(i, 'non-Member')\n",
    "        idx.append(harga) \n",
    "    \n",
    "\n",
    "        for i in idx:\n",
    "            '''looping untuk melakukan penjumlahan yang ada dlam list'''\n",
    "            i += 0\n",
    "        return i"
   ]
  }
 ],
 "metadata": {
  "kernelspec": {
   "display_name": "Hacktiv8",
   "language": "python",
   "name": "python3"
  },
  "language_info": {
   "codemirror_mode": {
    "name": "ipython",
    "version": 3
   },
   "file_extension": ".py",
   "mimetype": "text/x-python",
   "name": "python",
   "nbconvert_exporter": "python",
   "pygments_lexer": "ipython3",
   "version": "3.13.2"
  }
 },
 "nbformat": 4,
 "nbformat_minor": 2
}
